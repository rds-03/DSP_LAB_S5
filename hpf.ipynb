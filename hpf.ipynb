{
 "cells": [
  {
   "cell_type": "markdown",
   "metadata": {},
   "source": [
    "High Pass Filter Design"
   ]
  },
  {
   "cell_type": "code",
   "execution_count": 1,
   "metadata": {},
   "outputs": [],
   "source": [
    "import numpy as np\n",
    "import matplotlib.pyplot as plt\n",
    "import scipy.signal as sp\n"
   ]
  },
  {
   "cell_type": "code",
   "execution_count": 2,
   "metadata": {},
   "outputs": [],
   "source": [
    "def triangular(n, N):\n",
    "    x = np.empty(N)\n",
    "    x[n<(N)//2] = 2*n[n<(N)//2]/(N-1)\n",
    "    x[n>=(N)//2] = 2-2*n[n>=(N)//2]/(N-1)\n",
    "    return x\n",
    "\n",
    "def rectangular(n,N):\n",
    "    x = np.ones(N)\n",
    "    return x\n",
    "\n",
    "def hanning(n, N):\n",
    "    x = (1-np.cos(2*np.pi*n/(N-1)))/2\n",
    "    return x\n",
    "\n",
    "def hamming(n,N):\n",
    "    x = 0.54-0.46*np.cos(2*np.pi*n/(N-1))\n",
    "    return x\n"
   ]
  },
  {
   "cell_type": "code",
   "execution_count": 3,
   "metadata": {},
   "outputs": [
    {
     "data": {
      "image/png": "[encoded data removed]",
      "text/plain": [
       "<Figure size 432x288 with 2 Axes>"
      ]
     },
     "metadata": {
      "needs_background": "light"
     },
     "output_type": "display_data"
    }
   ],
   "source": [
    "def mfreq(b):\n",
    "    w,h = sp.freqz(b,1)\n",
    "    db = 20*np.log10(abs(h))\n",
    "    plt.subplot(2,1,1)\n",
    "    plt.plot(w,db)\n",
    "    plt.subplot(2,1,2)\n",
    "    hphase = np.unwrap(np.arctan2(np.imag(h),np.real(h)))\n",
    "    plt.plot(w,hphase)\n",
    "    plt.show()\n",
    "\n",
    "def hpf(N, wc, win):\n",
    "    a=(N-1)/2\n",
    "    h=[wc/np.pi if i == a else (np.sin((i-a)*np.pi)-np.sin((i-a)*wc))/(np.pi*(i-a)) for\n",
    "    i in np.arange(0, N) ]\n",
    "    windows = [hanning, hamming, triangular, rectangular]\n",
    "    h_ = h*windows[win-1](np.arange(0, N), N)\n",
    "    mfreq(h_)\n",
    "N = int(input(\"Enter N: \")) # length of the filter\n",
    "wc = float(input(\"Enter wc: \")) #cutoff frequency\n",
    "win = int(input(\"Choose window\\n1. Hanning\\n2. Hamming\\n3. Triangular\\n4.Rectangular\\n\")) #window \n",
    "hpf(N, wc, win)\n",
    "\n"
   ]
  },
  {
   "cell_type": "code",
   "execution_count": null,
   "metadata": {},
   "outputs": [],
   "source": []
  }
 ],
 "metadata": {
  "kernelspec": {
   "display_name": "base",
   "language": "python",
   "name": "python3"
  },
  "language_info": {
   "codemirror_mode": {
    "name": "ipython",
    "version": 3
   },
   "file_extension": ".py",
   "mimetype": "text/x-python",
   "name": "python",
   "nbconvert_exporter": "python",
   "pygments_lexer": "ipython3",
   "version": "3.9.12"
  }
 },
 "nbformat": 4,
 "nbformat_minor": 2
}
