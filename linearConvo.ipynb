{
 "cells": [
  {
   "cell_type": "markdown",
   "metadata": {},
   "source": [
    "Liner Convolution"
   ]
  },
  {
   "cell_type": "code",
   "execution_count": 1,
   "metadata": {},
   "outputs": [],
   "source": [
    "import numpy as np\n",
    "import matplotlib.pyplot as plt"
   ]
  },
  {
   "cell_type": "code",
   "execution_count": 2,
   "metadata": {},
   "outputs": [
    {
     "name": "stdout",
     "output_type": "stream",
     "text": [
      "The first squence is : [1 1 1 1]\n",
      "The second squence is : [1 1]\n",
      "Output : [1 2 2 2 1]\n"
     ]
    }
   ],
   "source": [
    "x= np.array(input(\"sequence 1: \").split(\",\")).astype(int)\n",
    "print(\"The first squence is :\",x)\n",
    "h= np.array(input(\"sequence 2: \").split(\",\")).astype(int)\n",
    "print(\"The second squence is :\",h)\n",
    "xn=x\n",
    "xh=h\n",
    "total = len(x)+len(h)-1\n",
    "y = np.zeros(total)\n",
    "\n",
    "if len(x)< len(h):\n",
    "    (x,h)=(h,x) # swap the elements of the array\n",
    "if len(x)!= len(h):\n",
    "    if len(x)>len(h):\n",
    "        z=np.zeros(len(x)-len(h)).astype(int)\n",
    "        h= np.concatenate((h,z))\n",
    "size = len(x)\n",
    "# convolution Operation \n",
    "for i in range(total):\n",
    "    sum = 0\n",
    "    for j in  range(size):\n",
    "        w = i-j\n",
    "        if (w<0) or (w>size-1):\n",
    "            sum+=0\n",
    "        else:\n",
    "            sum += x[j]*h[w] \n",
    "    y[i] = sum\n",
    "\n",
    "print(\"Output :\",y.astype(int))"
   ]
  },
  {
   "cell_type": "code",
   "execution_count": null,
   "metadata": {},
   "outputs": [],
   "source": []
  }
 ],
 "metadata": {
  "kernelspec": {
   "display_name": "base",
   "language": "python",
   "name": "python3"
  },
  "language_info": {
   "codemirror_mode": {
    "name": "ipython",
    "version": 3
   },
   "file_extension": ".py",
   "mimetype": "text/x-python",
   "name": "python",
   "nbconvert_exporter": "python",
   "pygments_lexer": "ipython3",
   "version": "3.9.12"
  }
 },
 "nbformat": 4,
 "nbformat_minor": 2
}
