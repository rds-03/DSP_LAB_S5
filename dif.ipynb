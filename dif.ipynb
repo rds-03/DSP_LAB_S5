{
 "cells": [
  {
   "cell_type": "markdown",
   "metadata": {},
   "source": [
    "Fast Fourier Transform using Decimation in Frequency Algorithm"
   ]
  },
  {
   "cell_type": "code",
   "execution_count": 2,
   "metadata": {},
   "outputs": [],
   "source": [
    "import cmath\n",
    "import matplotlib.pyplot as plt\n",
    "import math\n",
    "import numpy as np\n"
   ]
  },
  {
   "cell_type": "code",
   "execution_count": 4,
   "metadata": {},
   "outputs": [
    {
     "name": "stdout",
     "output_type": "stream",
     "text": [
      "Using Built in Functions [15.        +0.j         -5.41421356-7.24264069j  3.        +2.j\n",
      " -2.58578644-1.24264069j  3.        +0.j         -2.58578644+1.24264069j\n",
      "  3.        -2.j         -5.41421356+7.24264069j]\n",
      "FFT by Mathematically:  [15.        +0.j         -5.41421356-7.24264069j  3.        +2.j\n",
      " -2.58578644-1.24264069j  3.        +0.j         -2.58578644+1.24264069j\n",
      "  3.        -2.j         -5.41421356+7.24264069j]\n"
     ]
    },
    {
     "data": {
      "image/png": "[encoded data removed]",
      "text/plain": [
       "<Figure size 432x288 with 2 Axes>"
      ]
     },
     "metadata": {
      "needs_background": "light"
     },
     "output_type": "display_data"
    }
   ],
   "source": [
    "def bitrev(intg,n):\n",
    "    bi=bin(intg)[2:] #'0b0' to '0'\n",
    "    if len(bi)!=n:\n",
    "        bi=bi.zfill(n)  #to make '0' to '000'\n",
    "    bi=bi[::-1] #to bit reverse\n",
    "    j=int(bi,2) #binary to int\n",
    "    return j\n",
    "\n",
    "x=np.array(input(\"Enter sequence: \").split(\",\")).astype(complex)\n",
    "y=x\n",
    "n=math.log2(len(x))\n",
    "n=math.ceil(n) # to find n in N=2^n\n",
    "N=2**n  #N-point\n",
    "if len(x)!=N:\n",
    "    x=np.pad(x,(0,N-len(x)))\n",
    "print(\"Using Built in Functions\",np.fft.fft(x))\n",
    "#print(\"x:\",x)\n",
    "stage=n\n",
    "half=int(N/2)\n",
    "for i in range(int(stage)):\n",
    "    v=2**(i)\n",
    "    for index in range(0,int(N),2**(stage-i)):\n",
    "        for n in range(half):\n",
    "            p=n+index\n",
    "            #print('p=',p) \n",
    "            w=np.exp(-1j*2*math.pi*v*n/N)\n",
    "            a=x[p]+x[p+half]\n",
    "            b=(x[p]-x[p+half])*w\n",
    "            x[p]=a\n",
    "            x[p+half]=b\n",
    "    half=int(half/2)\n",
    "n=math.log2(len(y))\n",
    "n=math.ceil(n)\n",
    "x1=np.zeros(len(x),complex)\n",
    "for i in range (N):\n",
    "    j=bitrev(i,n) # Calling bitreversal  function \n",
    "    x1[i]=x[j]\n",
    "print(\"FFT by Mathematically: \",x1)\n",
    "#magnitude plot\n",
    "k_array=np.arange(0,len(x1),1)\n",
    "mag_y=[abs(i) for i in x1]\n",
    "plt.subplot(1,2,1)\n",
    "plt.stem(k_array,mag_y)\n",
    "plt.title(\"Magnitude plot\")\n",
    "plt.xlabel(\"Value of k\")\n",
    "plt.ylabel(\"|X[k]|\")\n",
    "#phase plot\n",
    "k_array=np.arange(0,len(x1),1)\n",
    "phase_y=[cmath.phase(i) for i in x1]\n",
    "plt.subplot(1,2,2)\n",
    "plt.stem(k_array,phase_y)\n",
    "plt.title(\"Phase plot\")\n",
    "plt.xlabel(\"Value of k\")\n",
    "plt.ylabel(\"<X[k]\")\n",
    "plt.show()"
   ]
  },
  {
   "cell_type": "code",
   "execution_count": null,
   "metadata": {},
   "outputs": [],
   "source": []
  }
 ],
 "metadata": {
  "kernelspec": {
   "display_name": "base",
   "language": "python",
   "name": "python3"
  },
  "language_info": {
   "codemirror_mode": {
    "name": "ipython",
    "version": 3
   },
   "file_extension": ".py",
   "mimetype": "text/x-python",
   "name": "python",
   "nbconvert_exporter": "python",
   "pygments_lexer": "ipython3",
   "version": "3.9.12"
  }
 },
 "nbformat": 4,
 "nbformat_minor": 2
}
