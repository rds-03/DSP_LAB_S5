{
 "cells": [
  {
   "cell_type": "markdown",
   "metadata": {},
   "source": [
    "Overlap Save"
   ]
  },
  {
   "cell_type": "code",
   "execution_count": 3,
   "metadata": {},
   "outputs": [],
   "source": [
    "import numpy as np"
   ]
  },
  {
   "cell_type": "code",
   "execution_count": 14,
   "metadata": {},
   "outputs": [],
   "source": [
    "def overlapSave(x,h,N):\n",
    "    M= len(h)\n",
    "    print(\"M is \",M)\n",
    "    L= N-M+1\n",
    "    print(\"L is \",L)\n",
    "    x_padd = np.concatenate((x,np.zeros(N-1)))\n",
    "    print(\"Padded Value of x:\",x_padd)\n",
    "    h_padd = np.concatenate((h,np.zeros(N-M)))\n",
    "    print(\"Padded Value of h:\",h_padd)\n",
    "    y= np.zeros(len(x)+M-1)\n",
    "    print(\"Sample zeros out\",y)\n",
    "    for i in range(0,len(x),L):\n",
    "        print(i)\n",
    "        x_segment = x_padd[i:i+N]\n",
    "        print(\"Segmented value is\",x_segment)\n",
    "        X= np.fft.fft(x_segment)\n",
    "        H= np.fft.fft(h_padd,N)\n",
    "        Y= X*H\n",
    "        y_segment = np.fft.ifft(Y)\n",
    "        print(\"segmented output is \",y_segment)\n",
    "        y[i:i+N]= np.real(y_segment)\n",
    "        return y"
   ]
  },
  {
   "cell_type": "code",
   "execution_count": 16,
   "metadata": {},
   "outputs": [
    {
     "name": "stdout",
     "output_type": "stream",
     "text": [
      "N is  8\n",
      "M is  4\n",
      "L is  5\n",
      "Padded Value of x: [11.  1.  1.  1.  1.  0.  0.  0.  0.  0.  0.  0.]\n",
      "Padded Value of h: [1. 1. 1. 1. 0. 0. 0. 0.]\n",
      "Sample zeros out [0. 0. 0. 0. 0. 0. 0. 0.]\n",
      "0\n",
      "Segmented value is [11.  1.  1.  1.  1.  0.  0.  0.]\n",
      "segmented output is  [11.+0.j 12.+0.j 13.+0.j 14.+0.j  4.+0.j  3.+0.j  2.+0.j  1.+0.j]\n",
      "Mathematically [11. 12. 13. 14.  4.  3.  2.  1.]\n",
      "Using Built in Fn [11 12 13 14  4  3  2  1]\n"
     ]
    }
   ],
   "source": [
    "x= np.array(input(\"Enter the  first sequence: \").split(\",\")).astype(int)\n",
    "h= np.array(input(\"Enter the  Second sequence: \").split(\",\")).astype(int)\n",
    "N= len(x)+len(h)-1\n",
    "print(\"N is \",N)\n",
    "print(\"Mathematically\",overlapSave(x,h,N))\n",
    "print(\"Using Built in Fn\",np.convolve(x,h))"
   ]
  },
  {
   "cell_type": "code",
   "execution_count": null,
   "metadata": {},
   "outputs": [],
   "source": []
  }
 ],
 "metadata": {
  "kernelspec": {
   "display_name": "base",
   "language": "python",
   "name": "python3"
  },
  "language_info": {
   "codemirror_mode": {
    "name": "ipython",
    "version": 3
   },
   "file_extension": ".py",
   "mimetype": "text/x-python",
   "name": "python",
   "nbconvert_exporter": "python",
   "pygments_lexer": "ipython3",
   "version": "3.9.12"
  }
 },
 "nbformat": 4,
 "nbformat_minor": 2
}
