{
 "cells": [
  {
   "cell_type": "markdown",
   "metadata": {},
   "source": [
    "Fast Fourier Transform using Decimation in Time Algorithm"
   ]
  },
  {
   "cell_type": "code",
   "execution_count": 1,
   "metadata": {},
   "outputs": [],
   "source": [
    "import numpy as np\n",
    "import matplotlib.pyplot as plt\n",
    "import cmath\n",
    "import math"
   ]
  },
  {
   "cell_type": "code",
   "execution_count": 2,
   "metadata": {},
   "outputs": [
    {
     "name": "stdout",
     "output_type": "stream",
     "text": [
      "input sequencce:  [1.+0.j 2.+0.j 3.+0.j 4.+0.j 5.+0.j]\n",
      "x: [1.+0.j 2.+0.j 3.+0.j 4.+0.j 5.+0.j 0.+0.j 0.+0.j 0.+0.j]\n",
      "FFT:  [15.        +0.j         -5.41421356-7.24264069j  3.        +2.j\n",
      " -2.58578644-1.24264069j  3.        +0.j         -2.58578644+1.24264069j\n",
      "  3.        -2.j         -5.41421356+7.24264069j]\n",
      "In built: [15.        +0.j         -5.41421356-7.24264069j  3.        +2.j\n",
      " -2.58578644-1.24264069j  3.        +0.j         -2.58578644+1.24264069j\n",
      "  3.        -2.j         -5.41421356+7.24264069j]\n"
     ]
    },
    {
     "data": {
      "image/png": "[encoded data removed]",
      "text/plain": [
       "<Figure size 432x288 with 1 Axes>"
      ]
     },
     "metadata": {
      "needs_background": "light"
     },
     "output_type": "display_data"
    },
    {
     "data": {
      "image/png": "[encoded data removed]",
      "text/plain": [
       "<Figure size 432x288 with 1 Axes>"
      ]
     },
     "metadata": {
      "needs_background": "light"
     },
     "output_type": "display_data"
    }
   ],
   "source": [
    "def bitrev(intg,n):\n",
    "    bi=bin(intg)[2:] #'0b0' to '0'\n",
    "    if len(bi)!=n:\n",
    "        bi=bi.zfill(n)  #to make '0' to '000'\n",
    "    bi=bi[::-1] #to bit reverse\n",
    "    j=int(bi,2) #binary to int\n",
    "    return j\n",
    "\n",
    "x=np.array(input(\"Enter sequence: \").split(\",\")).astype(complex)\n",
    "print(\"input sequencce: \",x)\n",
    "n=math.log2(len(x))\n",
    "n=math.ceil(n) # to find n in N=2^n\n",
    "N=2**n  #N-point\n",
    "if len(x)!=N:\n",
    "    x=np.pad(x,(0,N-len(x)))\n",
    "print(\"x:\",x)\n",
    "x1=np.zeros(len(x),complex)\n",
    "for i in range (N):\n",
    "    j=bitrev(i,n)\n",
    "    x1[j]=x[i]  #x1 is in bit reverse order of x\n",
    "#print(\"x1 is \",x1)\n",
    "y=x1\n",
    "stage=n\n",
    "half=1\n",
    "for i in range(int(stage)):\n",
    "    v=2**(stage-i-1)\n",
    "    for index in range(0,int(N),2**(i+1)):\n",
    "        for n in range(half):\n",
    "            p=n+index\n",
    "            w=np.exp(-1j*2*math.pi*v*n/N)\n",
    "            a=x1[p]+x1[p+half]*w\n",
    "            b=x1[p]-x1[p+half]*w\n",
    "            x1[p]=a\n",
    "            x1[p+half]=b\n",
    "    half=2*half\n",
    "print(\"FFT: \",x1)\n",
    "y1=(np.fft.fft(x))\n",
    "print(\"In built:\",y1)\n",
    "#magnitude plot\n",
    "k_array=np.arange(0,len(x1),1)\n",
    "mag_y=[abs(i) for i in x1]\n",
    "plt.subplot(1,2,1)\n",
    "plt.stem(k_array,mag_y)\n",
    "plt.title(\"Magnitude plot\")\n",
    "plt.xlabel(\"Value of k\")\n",
    "plt.ylabel(\"|X[k]|\")\n",
    "plt.show()\n",
    "#phase plot\n",
    "k_array=np.arange(0,len(x1),1)\n",
    "phase_y=[cmath.phase(i) for i in x1]\n",
    "plt.subplot(1,2,2)\n",
    "plt.stem(k_array,phase_y)\n",
    "plt.title(\"Phase plot\")\n",
    "plt.xlabel(\"Value of k\")\n",
    "plt.ylabel(\"<X[k]\")\n",
    "plt.show()"
   ]
  },
  {
   "cell_type": "code",
   "execution_count": null,
   "metadata": {},
   "outputs": [],
   "source": []
  }
 ],
 "metadata": {
  "kernelspec": {
   "display_name": "base",
   "language": "python",
   "name": "python3"
  },
  "language_info": {
   "codemirror_mode": {
    "name": "ipython",
    "version": 3
   },
   "file_extension": ".py",
   "mimetype": "text/x-python",
   "name": "python",
   "nbconvert_exporter": "python",
   "pygments_lexer": "ipython3",
   "version": "3.9.12"
  }
 },
 "nbformat": 4,
 "nbformat_minor": 2
}
