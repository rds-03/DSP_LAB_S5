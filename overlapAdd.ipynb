{
 "cells": [
  {
   "cell_type": "markdown",
   "metadata": {},
   "source": [
    "Overlap Add"
   ]
  },
  {
   "cell_type": "code",
   "execution_count": 5,
   "metadata": {},
   "outputs": [],
   "source": [
    "import numpy as np\n"
   ]
  },
  {
   "cell_type": "code",
   "execution_count": 13,
   "metadata": {},
   "outputs": [],
   "source": [
    "def overlapAdd(x,h):\n",
    "    N= len(h)\n",
    "    L = len(x)+len(h)-1\n",
    "    N_fft = 2**int(np.ceil(np.log2(L)))\n",
    "    X = np.fft.fft(np.pad(x,(0,N_fft-len(x))))\n",
    "    H = np.fft.fft(np.pad(h,(0,N_fft-len(h))))\n",
    "    Y=X*H\n",
    "    y =np.real(np.fft.ifft(Y))\n",
    "    return y[:L]"
   ]
  },
  {
   "cell_type": "code",
   "execution_count": 14,
   "metadata": {},
   "outputs": [
    {
     "name": "stdout",
     "output_type": "stream",
     "text": [
      "[ 1.  2.  4.  5.  7.  8.  5.  1. -4. -5. -7. -8. -6. -3.]\n",
      "[ 1  2  4  5  7  8  5  1 -4 -5 -7 -8 -6 -3]\n"
     ]
    }
   ],
   "source": [
    "x= np.array(input(\"Enter the  first sequence: \").split(\",\")).astype(int)\n",
    "h= np.array(input(\"Enter the  first sequence: \").split(\",\")).astype(int)\n",
    "print(\"Using Mathematically\",overlapAdd(x,h))\n",
    "print(\"Using Built in Fn\",p.convolve(x,h))\n"
   ]
  },
  {
   "cell_type": "code",
   "execution_count": null,
   "metadata": {},
   "outputs": [],
   "source": []
  }
 ],
 "metadata": {
  "kernelspec": {
   "display_name": "base",
   "language": "python",
   "name": "python3"
  },
  "language_info": {
   "codemirror_mode": {
    "name": "ipython",
    "version": 3
   },
   "file_extension": ".py",
   "mimetype": "text/x-python",
   "name": "python",
   "nbconvert_exporter": "python",
   "pygments_lexer": "ipython3",
   "version": "3.9.12"
  }
 },
 "nbformat": 4,
 "nbformat_minor": 2
}
